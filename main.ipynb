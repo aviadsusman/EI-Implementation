{
 "cells": [
  {
   "cell_type": "code",
   "execution_count": 4,
   "id": "initial_id",
   "metadata": {
    "collapsed": true,
    "ExecuteTime": {
     "end_time": "2023-08-02T21:53:52.790392Z",
     "start_time": "2023-08-02T21:53:52.622541Z"
    }
   },
   "outputs": [],
   "source": [
    "from sklearn.ensemble import AdaBoostClassifier, GradientBoostingClassifier, RandomForestClassifier\n",
    "from sklearn.tree import DecisionTreeClassifier\n",
    "from sklearn.neighbors import KNeighborsClassifier\n",
    "from sklearn.linear_model import LogisticRegression\n",
    "from sklearn.naive_bayes import GaussianNB\n",
    "from sklearn.preprocessing import RobustScaler\n",
    "from sklearn.svm import LinearSVC, SVC\n",
    "from sklearn.neural_network import MLPClassifier\n",
    "from ens_selection import CES\n",
    "from xgboost import XGBClassifier\n",
    "import sys\n",
    "import pandas as pd\n",
    "import os\n",
    "\n",
    "\n",
    "\n",
    "from ei import EnsembleIntegration"
   ]
  },
  {
   "cell_type": "code",
   "execution_count": 7,
   "outputs": [],
   "source": [
    "'''\n",
    "Cell for loading in data\n",
    "'''\n",
    "csvs = \"/Users/aviadsusman/PycharmProjects/EI_implement/data\"\n",
    "modalities = {}\n",
    "for file_name in os.listdir(csvs):\n",
    "    if not (file_name.startswith('labels') or file_name.startswith('data')):\n",
    "        file_path = os.path.join(csvs, file_name)\n",
    "        modality = os.path.splitext(file_name)[0]\n",
    "\n",
    "        data = pd.read_csv(file_path).to_numpy()\n",
    "        modalities[modality] = data\n",
    "y = pd.read_csv('/Users/aviadsusman/PycharmProjects/EI_implement/data/labels.csv', header=None).to_numpy()"
   ],
   "metadata": {
    "collapsed": false,
    "ExecuteTime": {
     "end_time": "2023-08-02T21:58:58.678506Z",
     "start_time": "2023-08-02T21:58:58.120418Z"
    }
   },
   "id": "6d5a1c770121860b"
  },
  {
   "cell_type": "code",
   "execution_count": 8,
   "outputs": [
    {
     "name": "stdout",
     "output_type": "stream",
     "text": [
      "\n",
      "\n",
      "########################################################################################################\n",
      "######################################## health_status modality ########################################\n",
      "######################################################################################################## \n",
      "\n",
      "\n",
      "Training base predictors and generating data for analysis...\n",
      "Generating meta training data via nested cross validation...\n"
     ]
    },
    {
     "name": "stderr",
     "output_type": "stream",
     "text": [
      "/Users/aviadsusman/opt/anaconda3/envs/EI_implement/lib/python3.10/site-packages/xgboost/sklearn.py:1395: UserWarning: `use_label_encoder` is deprecated in 1.7.0.\n",
      "  warnings.warn(\"`use_label_encoder` is deprecated in 1.7.0.\")\n",
      "/Users/aviadsusman/opt/anaconda3/envs/EI_implement/lib/python3.10/site-packages/xgboost/sklearn.py:1395: UserWarning: `use_label_encoder` is deprecated in 1.7.0.\n",
      "  warnings.warn(\"`use_label_encoder` is deprecated in 1.7.0.\")\n",
      "/Users/aviadsusman/opt/anaconda3/envs/EI_implement/lib/python3.10/site-packages/xgboost/sklearn.py:1395: UserWarning: `use_label_encoder` is deprecated in 1.7.0.\n",
      "  warnings.warn(\"`use_label_encoder` is deprecated in 1.7.0.\")\n",
      "/Users/aviadsusman/opt/anaconda3/envs/EI_implement/lib/python3.10/site-packages/xgboost/sklearn.py:1395: UserWarning: `use_label_encoder` is deprecated in 1.7.0.\n",
      "  warnings.warn(\"`use_label_encoder` is deprecated in 1.7.0.\")\n",
      "/Users/aviadsusman/opt/anaconda3/envs/EI_implement/lib/python3.10/site-packages/xgboost/sklearn.py:1395: UserWarning: `use_label_encoder` is deprecated in 1.7.0.\n",
      "  warnings.warn(\"`use_label_encoder` is deprecated in 1.7.0.\")\n",
      "/Users/aviadsusman/opt/anaconda3/envs/EI_implement/lib/python3.10/site-packages/xgboost/sklearn.py:1395: UserWarning: `use_label_encoder` is deprecated in 1.7.0.\n",
      "  warnings.warn(\"`use_label_encoder` is deprecated in 1.7.0.\")\n",
      "/Users/aviadsusman/opt/anaconda3/envs/EI_implement/lib/python3.10/site-packages/xgboost/sklearn.py:1395: UserWarning: `use_label_encoder` is deprecated in 1.7.0.\n",
      "  warnings.warn(\"`use_label_encoder` is deprecated in 1.7.0.\")\n",
      "/Users/aviadsusman/opt/anaconda3/envs/EI_implement/lib/python3.10/site-packages/xgboost/sklearn.py:1395: UserWarning: `use_label_encoder` is deprecated in 1.7.0.\n",
      "  warnings.warn(\"`use_label_encoder` is deprecated in 1.7.0.\")\n",
      "/Users/aviadsusman/opt/anaconda3/envs/EI_implement/lib/python3.10/site-packages/xgboost/sklearn.py:1395: UserWarning: `use_label_encoder` is deprecated in 1.7.0.\n",
      "  warnings.warn(\"`use_label_encoder` is deprecated in 1.7.0.\")\n",
      "/Users/aviadsusman/opt/anaconda3/envs/EI_implement/lib/python3.10/site-packages/xgboost/sklearn.py:1395: UserWarning: `use_label_encoder` is deprecated in 1.7.0.\n",
      "  warnings.warn(\"`use_label_encoder` is deprecated in 1.7.0.\")\n",
      "/Users/aviadsusman/opt/anaconda3/envs/EI_implement/lib/python3.10/site-packages/xgboost/sklearn.py:1395: UserWarning: `use_label_encoder` is deprecated in 1.7.0.\n",
      "  warnings.warn(\"`use_label_encoder` is deprecated in 1.7.0.\")\n",
      "/Users/aviadsusman/opt/anaconda3/envs/EI_implement/lib/python3.10/site-packages/xgboost/sklearn.py:1395: UserWarning: `use_label_encoder` is deprecated in 1.7.0.\n",
      "  warnings.warn(\"`use_label_encoder` is deprecated in 1.7.0.\")\n",
      "/Users/aviadsusman/opt/anaconda3/envs/EI_implement/lib/python3.10/site-packages/xgboost/sklearn.py:1395: UserWarning: `use_label_encoder` is deprecated in 1.7.0.\n",
      "  warnings.warn(\"`use_label_encoder` is deprecated in 1.7.0.\")\n",
      "/Users/aviadsusman/opt/anaconda3/envs/EI_implement/lib/python3.10/site-packages/xgboost/sklearn.py:1395: UserWarning: `use_label_encoder` is deprecated in 1.7.0.\n",
      "  warnings.warn(\"`use_label_encoder` is deprecated in 1.7.0.\")\n",
      "/Users/aviadsusman/opt/anaconda3/envs/EI_implement/lib/python3.10/site-packages/xgboost/sklearn.py:1395: UserWarning: `use_label_encoder` is deprecated in 1.7.0.\n",
      "  warnings.warn(\"`use_label_encoder` is deprecated in 1.7.0.\")\n",
      "/Users/aviadsusman/opt/anaconda3/envs/EI_implement/lib/python3.10/site-packages/xgboost/sklearn.py:1395: UserWarning: `use_label_encoder` is deprecated in 1.7.0.\n",
      "  warnings.warn(\"`use_label_encoder` is deprecated in 1.7.0.\")\n",
      "/Users/aviadsusman/opt/anaconda3/envs/EI_implement/lib/python3.10/site-packages/xgboost/sklearn.py:1395: UserWarning: `use_label_encoder` is deprecated in 1.7.0.\n",
      "  warnings.warn(\"`use_label_encoder` is deprecated in 1.7.0.\")\n",
      "/Users/aviadsusman/opt/anaconda3/envs/EI_implement/lib/python3.10/site-packages/xgboost/sklearn.py:1395: UserWarning: `use_label_encoder` is deprecated in 1.7.0.\n",
      "  warnings.warn(\"`use_label_encoder` is deprecated in 1.7.0.\")\n",
      "/Users/aviadsusman/opt/anaconda3/envs/EI_implement/lib/python3.10/site-packages/xgboost/sklearn.py:1395: UserWarning: `use_label_encoder` is deprecated in 1.7.0.\n",
      "  warnings.warn(\"`use_label_encoder` is deprecated in 1.7.0.\")\n",
      "/Users/aviadsusman/opt/anaconda3/envs/EI_implement/lib/python3.10/site-packages/xgboost/sklearn.py:1395: UserWarning: `use_label_encoder` is deprecated in 1.7.0.\n",
      "  warnings.warn(\"`use_label_encoder` is deprecated in 1.7.0.\")\n",
      "/Users/aviadsusman/opt/anaconda3/envs/EI_implement/lib/python3.10/site-packages/xgboost/sklearn.py:1395: UserWarning: `use_label_encoder` is deprecated in 1.7.0.\n",
      "  warnings.warn(\"`use_label_encoder` is deprecated in 1.7.0.\")\n",
      "/Users/aviadsusman/opt/anaconda3/envs/EI_implement/lib/python3.10/site-packages/xgboost/sklearn.py:1395: UserWarning: `use_label_encoder` is deprecated in 1.7.0.\n",
      "  warnings.warn(\"`use_label_encoder` is deprecated in 1.7.0.\")\n",
      "/Users/aviadsusman/opt/anaconda3/envs/EI_implement/lib/python3.10/site-packages/xgboost/sklearn.py:1395: UserWarning: `use_label_encoder` is deprecated in 1.7.0.\n",
      "  warnings.warn(\"`use_label_encoder` is deprecated in 1.7.0.\")\n",
      "/Users/aviadsusman/opt/anaconda3/envs/EI_implement/lib/python3.10/site-packages/xgboost/sklearn.py:1395: UserWarning: `use_label_encoder` is deprecated in 1.7.0.\n",
      "  warnings.warn(\"`use_label_encoder` is deprecated in 1.7.0.\")\n",
      "/Users/aviadsusman/opt/anaconda3/envs/EI_implement/lib/python3.10/site-packages/xgboost/sklearn.py:1395: UserWarning: `use_label_encoder` is deprecated in 1.7.0.\n",
      "  warnings.warn(\"`use_label_encoder` is deprecated in 1.7.0.\")\n",
      "/Users/aviadsusman/opt/anaconda3/envs/EI_implement/lib/python3.10/site-packages/xgboost/sklearn.py:1395: UserWarning: `use_label_encoder` is deprecated in 1.7.0.\n",
      "  warnings.warn(\"`use_label_encoder` is deprecated in 1.7.0.\")\n"
     ]
    },
    {
     "name": "stdout",
     "output_type": "stream",
     "text": [
      "Training base predictors on outer training sets...\n"
     ]
    },
    {
     "name": "stderr",
     "output_type": "stream",
     "text": [
      "/Users/aviadsusman/opt/anaconda3/envs/EI_implement/lib/python3.10/site-packages/xgboost/sklearn.py:1395: UserWarning: `use_label_encoder` is deprecated in 1.7.0.\n",
      "  warnings.warn(\"`use_label_encoder` is deprecated in 1.7.0.\")\n",
      "/Users/aviadsusman/opt/anaconda3/envs/EI_implement/lib/python3.10/site-packages/xgboost/sklearn.py:1395: UserWarning: `use_label_encoder` is deprecated in 1.7.0.\n",
      "  warnings.warn(\"`use_label_encoder` is deprecated in 1.7.0.\")\n",
      "/Users/aviadsusman/opt/anaconda3/envs/EI_implement/lib/python3.10/site-packages/xgboost/sklearn.py:1395: UserWarning: `use_label_encoder` is deprecated in 1.7.0.\n",
      "  warnings.warn(\"`use_label_encoder` is deprecated in 1.7.0.\")\n",
      "/Users/aviadsusman/opt/anaconda3/envs/EI_implement/lib/python3.10/site-packages/xgboost/sklearn.py:1395: UserWarning: `use_label_encoder` is deprecated in 1.7.0.\n",
      "  warnings.warn(\"`use_label_encoder` is deprecated in 1.7.0.\")\n",
      "/Users/aviadsusman/opt/anaconda3/envs/EI_implement/lib/python3.10/site-packages/xgboost/sklearn.py:1395: UserWarning: `use_label_encoder` is deprecated in 1.7.0.\n",
      "  warnings.warn(\"`use_label_encoder` is deprecated in 1.7.0.\")\n"
     ]
    },
    {
     "name": "stdout",
     "output_type": "stream",
     "text": [
      "\n",
      "Base predictor training is complete: see \"base_summary\" attribute for a summary of base predictor performance. Meta training data can be found in \"meta_training_data\" and \"meta_test_data\" attributes. Run \"train_meta\" method for analysis of ensemble algorithms.\n",
      "\n",
      "\n",
      "###############################################################################################\n",
      "######################################## diet modality ########################################\n",
      "############################################################################################### \n",
      "\n",
      "\n",
      "Training base predictors and generating data for analysis...\n",
      "Generating meta training data via nested cross validation...\n"
     ]
    },
    {
     "name": "stderr",
     "output_type": "stream",
     "text": [
      "/Users/aviadsusman/opt/anaconda3/envs/EI_implement/lib/python3.10/site-packages/xgboost/sklearn.py:1395: UserWarning: `use_label_encoder` is deprecated in 1.7.0.\n",
      "  warnings.warn(\"`use_label_encoder` is deprecated in 1.7.0.\")\n",
      "/Users/aviadsusman/opt/anaconda3/envs/EI_implement/lib/python3.10/site-packages/xgboost/sklearn.py:1395: UserWarning: `use_label_encoder` is deprecated in 1.7.0.\n",
      "  warnings.warn(\"`use_label_encoder` is deprecated in 1.7.0.\")\n",
      "/Users/aviadsusman/opt/anaconda3/envs/EI_implement/lib/python3.10/site-packages/xgboost/sklearn.py:1395: UserWarning: `use_label_encoder` is deprecated in 1.7.0.\n",
      "  warnings.warn(\"`use_label_encoder` is deprecated in 1.7.0.\")\n",
      "/Users/aviadsusman/opt/anaconda3/envs/EI_implement/lib/python3.10/site-packages/xgboost/sklearn.py:1395: UserWarning: `use_label_encoder` is deprecated in 1.7.0.\n",
      "  warnings.warn(\"`use_label_encoder` is deprecated in 1.7.0.\")\n",
      "/Users/aviadsusman/opt/anaconda3/envs/EI_implement/lib/python3.10/site-packages/xgboost/sklearn.py:1395: UserWarning: `use_label_encoder` is deprecated in 1.7.0.\n",
      "  warnings.warn(\"`use_label_encoder` is deprecated in 1.7.0.\")\n",
      "/Users/aviadsusman/opt/anaconda3/envs/EI_implement/lib/python3.10/site-packages/xgboost/sklearn.py:1395: UserWarning: `use_label_encoder` is deprecated in 1.7.0.\n",
      "  warnings.warn(\"`use_label_encoder` is deprecated in 1.7.0.\")\n",
      "/Users/aviadsusman/opt/anaconda3/envs/EI_implement/lib/python3.10/site-packages/xgboost/sklearn.py:1395: UserWarning: `use_label_encoder` is deprecated in 1.7.0.\n",
      "  warnings.warn(\"`use_label_encoder` is deprecated in 1.7.0.\")\n",
      "/Users/aviadsusman/opt/anaconda3/envs/EI_implement/lib/python3.10/site-packages/xgboost/sklearn.py:1395: UserWarning: `use_label_encoder` is deprecated in 1.7.0.\n",
      "  warnings.warn(\"`use_label_encoder` is deprecated in 1.7.0.\")\n",
      "/Users/aviadsusman/opt/anaconda3/envs/EI_implement/lib/python3.10/site-packages/xgboost/sklearn.py:1395: UserWarning: `use_label_encoder` is deprecated in 1.7.0.\n",
      "  warnings.warn(\"`use_label_encoder` is deprecated in 1.7.0.\")\n",
      "/Users/aviadsusman/opt/anaconda3/envs/EI_implement/lib/python3.10/site-packages/xgboost/sklearn.py:1395: UserWarning: `use_label_encoder` is deprecated in 1.7.0.\n",
      "  warnings.warn(\"`use_label_encoder` is deprecated in 1.7.0.\")\n",
      "/Users/aviadsusman/opt/anaconda3/envs/EI_implement/lib/python3.10/site-packages/xgboost/sklearn.py:1395: UserWarning: `use_label_encoder` is deprecated in 1.7.0.\n",
      "  warnings.warn(\"`use_label_encoder` is deprecated in 1.7.0.\")\n",
      "/Users/aviadsusman/opt/anaconda3/envs/EI_implement/lib/python3.10/site-packages/xgboost/sklearn.py:1395: UserWarning: `use_label_encoder` is deprecated in 1.7.0.\n",
      "  warnings.warn(\"`use_label_encoder` is deprecated in 1.7.0.\")\n",
      "/Users/aviadsusman/opt/anaconda3/envs/EI_implement/lib/python3.10/site-packages/xgboost/sklearn.py:1395: UserWarning: `use_label_encoder` is deprecated in 1.7.0.\n",
      "  warnings.warn(\"`use_label_encoder` is deprecated in 1.7.0.\")\n",
      "/Users/aviadsusman/opt/anaconda3/envs/EI_implement/lib/python3.10/site-packages/xgboost/sklearn.py:1395: UserWarning: `use_label_encoder` is deprecated in 1.7.0.\n",
      "  warnings.warn(\"`use_label_encoder` is deprecated in 1.7.0.\")\n",
      "/Users/aviadsusman/opt/anaconda3/envs/EI_implement/lib/python3.10/site-packages/xgboost/sklearn.py:1395: UserWarning: `use_label_encoder` is deprecated in 1.7.0.\n",
      "  warnings.warn(\"`use_label_encoder` is deprecated in 1.7.0.\")\n",
      "/Users/aviadsusman/opt/anaconda3/envs/EI_implement/lib/python3.10/site-packages/xgboost/sklearn.py:1395: UserWarning: `use_label_encoder` is deprecated in 1.7.0.\n",
      "  warnings.warn(\"`use_label_encoder` is deprecated in 1.7.0.\")\n",
      "/Users/aviadsusman/opt/anaconda3/envs/EI_implement/lib/python3.10/site-packages/xgboost/sklearn.py:1395: UserWarning: `use_label_encoder` is deprecated in 1.7.0.\n",
      "  warnings.warn(\"`use_label_encoder` is deprecated in 1.7.0.\")\n",
      "/Users/aviadsusman/opt/anaconda3/envs/EI_implement/lib/python3.10/site-packages/xgboost/sklearn.py:1395: UserWarning: `use_label_encoder` is deprecated in 1.7.0.\n",
      "  warnings.warn(\"`use_label_encoder` is deprecated in 1.7.0.\")\n",
      "/Users/aviadsusman/opt/anaconda3/envs/EI_implement/lib/python3.10/site-packages/xgboost/sklearn.py:1395: UserWarning: `use_label_encoder` is deprecated in 1.7.0.\n",
      "  warnings.warn(\"`use_label_encoder` is deprecated in 1.7.0.\")\n",
      "/Users/aviadsusman/opt/anaconda3/envs/EI_implement/lib/python3.10/site-packages/xgboost/sklearn.py:1395: UserWarning: `use_label_encoder` is deprecated in 1.7.0.\n",
      "  warnings.warn(\"`use_label_encoder` is deprecated in 1.7.0.\")\n",
      "/Users/aviadsusman/opt/anaconda3/envs/EI_implement/lib/python3.10/site-packages/xgboost/sklearn.py:1395: UserWarning: `use_label_encoder` is deprecated in 1.7.0.\n",
      "  warnings.warn(\"`use_label_encoder` is deprecated in 1.7.0.\")\n",
      "/Users/aviadsusman/opt/anaconda3/envs/EI_implement/lib/python3.10/site-packages/xgboost/sklearn.py:1395: UserWarning: `use_label_encoder` is deprecated in 1.7.0.\n",
      "  warnings.warn(\"`use_label_encoder` is deprecated in 1.7.0.\")\n",
      "/Users/aviadsusman/opt/anaconda3/envs/EI_implement/lib/python3.10/site-packages/xgboost/sklearn.py:1395: UserWarning: `use_label_encoder` is deprecated in 1.7.0.\n",
      "  warnings.warn(\"`use_label_encoder` is deprecated in 1.7.0.\")\n",
      "/Users/aviadsusman/opt/anaconda3/envs/EI_implement/lib/python3.10/site-packages/xgboost/sklearn.py:1395: UserWarning: `use_label_encoder` is deprecated in 1.7.0.\n",
      "  warnings.warn(\"`use_label_encoder` is deprecated in 1.7.0.\")\n",
      "/Users/aviadsusman/opt/anaconda3/envs/EI_implement/lib/python3.10/site-packages/xgboost/sklearn.py:1395: UserWarning: `use_label_encoder` is deprecated in 1.7.0.\n",
      "  warnings.warn(\"`use_label_encoder` is deprecated in 1.7.0.\")\n"
     ]
    },
    {
     "name": "stdout",
     "output_type": "stream",
     "text": [
      "Training base predictors on outer training sets...\n"
     ]
    },
    {
     "name": "stderr",
     "output_type": "stream",
     "text": [
      "/Users/aviadsusman/opt/anaconda3/envs/EI_implement/lib/python3.10/site-packages/xgboost/sklearn.py:1395: UserWarning: `use_label_encoder` is deprecated in 1.7.0.\n",
      "  warnings.warn(\"`use_label_encoder` is deprecated in 1.7.0.\")\n",
      "/Users/aviadsusman/opt/anaconda3/envs/EI_implement/lib/python3.10/site-packages/xgboost/sklearn.py:1395: UserWarning: `use_label_encoder` is deprecated in 1.7.0.\n",
      "  warnings.warn(\"`use_label_encoder` is deprecated in 1.7.0.\")\n",
      "/Users/aviadsusman/opt/anaconda3/envs/EI_implement/lib/python3.10/site-packages/xgboost/sklearn.py:1395: UserWarning: `use_label_encoder` is deprecated in 1.7.0.\n",
      "  warnings.warn(\"`use_label_encoder` is deprecated in 1.7.0.\")\n",
      "/Users/aviadsusman/opt/anaconda3/envs/EI_implement/lib/python3.10/site-packages/xgboost/sklearn.py:1395: UserWarning: `use_label_encoder` is deprecated in 1.7.0.\n",
      "  warnings.warn(\"`use_label_encoder` is deprecated in 1.7.0.\")\n",
      "/Users/aviadsusman/opt/anaconda3/envs/EI_implement/lib/python3.10/site-packages/xgboost/sklearn.py:1395: UserWarning: `use_label_encoder` is deprecated in 1.7.0.\n",
      "  warnings.warn(\"`use_label_encoder` is deprecated in 1.7.0.\")\n"
     ]
    },
    {
     "name": "stdout",
     "output_type": "stream",
     "text": [
      "\n",
      "Base predictor training is complete: see \"base_summary\" attribute for a summary of base predictor performance. Meta training data can be found in \"meta_training_data\" and \"meta_test_data\" attributes. Run \"train_meta\" method for analysis of ensemble algorithms.\n",
      "\n",
      "\n",
      "###################################################################################################################\n",
      "######################################## other_lifestyle_behavior modality ########################################\n",
      "################################################################################################################### \n",
      "\n",
      "\n",
      "Training base predictors and generating data for analysis...\n",
      "Generating meta training data via nested cross validation...\n"
     ]
    },
    {
     "name": "stderr",
     "output_type": "stream",
     "text": [
      "/Users/aviadsusman/opt/anaconda3/envs/EI_implement/lib/python3.10/site-packages/xgboost/sklearn.py:1395: UserWarning: `use_label_encoder` is deprecated in 1.7.0.\n",
      "  warnings.warn(\"`use_label_encoder` is deprecated in 1.7.0.\")\n",
      "/Users/aviadsusman/opt/anaconda3/envs/EI_implement/lib/python3.10/site-packages/xgboost/sklearn.py:1395: UserWarning: `use_label_encoder` is deprecated in 1.7.0.\n",
      "  warnings.warn(\"`use_label_encoder` is deprecated in 1.7.0.\")\n",
      "/Users/aviadsusman/opt/anaconda3/envs/EI_implement/lib/python3.10/site-packages/xgboost/sklearn.py:1395: UserWarning: `use_label_encoder` is deprecated in 1.7.0.\n",
      "  warnings.warn(\"`use_label_encoder` is deprecated in 1.7.0.\")\n",
      "/Users/aviadsusman/opt/anaconda3/envs/EI_implement/lib/python3.10/site-packages/xgboost/sklearn.py:1395: UserWarning: `use_label_encoder` is deprecated in 1.7.0.\n",
      "  warnings.warn(\"`use_label_encoder` is deprecated in 1.7.0.\")\n",
      "/Users/aviadsusman/opt/anaconda3/envs/EI_implement/lib/python3.10/site-packages/xgboost/sklearn.py:1395: UserWarning: `use_label_encoder` is deprecated in 1.7.0.\n",
      "  warnings.warn(\"`use_label_encoder` is deprecated in 1.7.0.\")\n",
      "/Users/aviadsusman/opt/anaconda3/envs/EI_implement/lib/python3.10/site-packages/xgboost/sklearn.py:1395: UserWarning: `use_label_encoder` is deprecated in 1.7.0.\n",
      "  warnings.warn(\"`use_label_encoder` is deprecated in 1.7.0.\")\n",
      "/Users/aviadsusman/opt/anaconda3/envs/EI_implement/lib/python3.10/site-packages/xgboost/sklearn.py:1395: UserWarning: `use_label_encoder` is deprecated in 1.7.0.\n",
      "  warnings.warn(\"`use_label_encoder` is deprecated in 1.7.0.\")\n",
      "/Users/aviadsusman/opt/anaconda3/envs/EI_implement/lib/python3.10/site-packages/xgboost/sklearn.py:1395: UserWarning: `use_label_encoder` is deprecated in 1.7.0.\n",
      "  warnings.warn(\"`use_label_encoder` is deprecated in 1.7.0.\")\n",
      "/Users/aviadsusman/opt/anaconda3/envs/EI_implement/lib/python3.10/site-packages/xgboost/sklearn.py:1395: UserWarning: `use_label_encoder` is deprecated in 1.7.0.\n",
      "  warnings.warn(\"`use_label_encoder` is deprecated in 1.7.0.\")\n",
      "/Users/aviadsusman/opt/anaconda3/envs/EI_implement/lib/python3.10/site-packages/xgboost/sklearn.py:1395: UserWarning: `use_label_encoder` is deprecated in 1.7.0.\n",
      "  warnings.warn(\"`use_label_encoder` is deprecated in 1.7.0.\")\n",
      "/Users/aviadsusman/opt/anaconda3/envs/EI_implement/lib/python3.10/site-packages/xgboost/sklearn.py:1395: UserWarning: `use_label_encoder` is deprecated in 1.7.0.\n",
      "  warnings.warn(\"`use_label_encoder` is deprecated in 1.7.0.\")\n",
      "/Users/aviadsusman/opt/anaconda3/envs/EI_implement/lib/python3.10/site-packages/xgboost/sklearn.py:1395: UserWarning: `use_label_encoder` is deprecated in 1.7.0.\n",
      "  warnings.warn(\"`use_label_encoder` is deprecated in 1.7.0.\")\n",
      "/Users/aviadsusman/opt/anaconda3/envs/EI_implement/lib/python3.10/site-packages/xgboost/sklearn.py:1395: UserWarning: `use_label_encoder` is deprecated in 1.7.0.\n",
      "  warnings.warn(\"`use_label_encoder` is deprecated in 1.7.0.\")\n",
      "/Users/aviadsusman/opt/anaconda3/envs/EI_implement/lib/python3.10/site-packages/xgboost/sklearn.py:1395: UserWarning: `use_label_encoder` is deprecated in 1.7.0.\n",
      "  warnings.warn(\"`use_label_encoder` is deprecated in 1.7.0.\")\n",
      "/Users/aviadsusman/opt/anaconda3/envs/EI_implement/lib/python3.10/site-packages/xgboost/sklearn.py:1395: UserWarning: `use_label_encoder` is deprecated in 1.7.0.\n",
      "  warnings.warn(\"`use_label_encoder` is deprecated in 1.7.0.\")\n",
      "/Users/aviadsusman/opt/anaconda3/envs/EI_implement/lib/python3.10/site-packages/xgboost/sklearn.py:1395: UserWarning: `use_label_encoder` is deprecated in 1.7.0.\n",
      "  warnings.warn(\"`use_label_encoder` is deprecated in 1.7.0.\")\n",
      "/Users/aviadsusman/opt/anaconda3/envs/EI_implement/lib/python3.10/site-packages/xgboost/sklearn.py:1395: UserWarning: `use_label_encoder` is deprecated in 1.7.0.\n",
      "  warnings.warn(\"`use_label_encoder` is deprecated in 1.7.0.\")\n",
      "/Users/aviadsusman/opt/anaconda3/envs/EI_implement/lib/python3.10/site-packages/xgboost/sklearn.py:1395: UserWarning: `use_label_encoder` is deprecated in 1.7.0.\n",
      "  warnings.warn(\"`use_label_encoder` is deprecated in 1.7.0.\")\n",
      "/Users/aviadsusman/opt/anaconda3/envs/EI_implement/lib/python3.10/site-packages/xgboost/sklearn.py:1395: UserWarning: `use_label_encoder` is deprecated in 1.7.0.\n",
      "  warnings.warn(\"`use_label_encoder` is deprecated in 1.7.0.\")\n",
      "/Users/aviadsusman/opt/anaconda3/envs/EI_implement/lib/python3.10/site-packages/xgboost/sklearn.py:1395: UserWarning: `use_label_encoder` is deprecated in 1.7.0.\n",
      "  warnings.warn(\"`use_label_encoder` is deprecated in 1.7.0.\")\n",
      "/Users/aviadsusman/opt/anaconda3/envs/EI_implement/lib/python3.10/site-packages/xgboost/sklearn.py:1395: UserWarning: `use_label_encoder` is deprecated in 1.7.0.\n",
      "  warnings.warn(\"`use_label_encoder` is deprecated in 1.7.0.\")\n",
      "/Users/aviadsusman/opt/anaconda3/envs/EI_implement/lib/python3.10/site-packages/xgboost/sklearn.py:1395: UserWarning: `use_label_encoder` is deprecated in 1.7.0.\n",
      "  warnings.warn(\"`use_label_encoder` is deprecated in 1.7.0.\")\n",
      "/Users/aviadsusman/opt/anaconda3/envs/EI_implement/lib/python3.10/site-packages/xgboost/sklearn.py:1395: UserWarning: `use_label_encoder` is deprecated in 1.7.0.\n",
      "  warnings.warn(\"`use_label_encoder` is deprecated in 1.7.0.\")\n",
      "/Users/aviadsusman/opt/anaconda3/envs/EI_implement/lib/python3.10/site-packages/xgboost/sklearn.py:1395: UserWarning: `use_label_encoder` is deprecated in 1.7.0.\n",
      "  warnings.warn(\"`use_label_encoder` is deprecated in 1.7.0.\")\n",
      "/Users/aviadsusman/opt/anaconda3/envs/EI_implement/lib/python3.10/site-packages/xgboost/sklearn.py:1395: UserWarning: `use_label_encoder` is deprecated in 1.7.0.\n",
      "  warnings.warn(\"`use_label_encoder` is deprecated in 1.7.0.\")\n"
     ]
    },
    {
     "name": "stdout",
     "output_type": "stream",
     "text": [
      "Training base predictors on outer training sets...\n"
     ]
    },
    {
     "name": "stderr",
     "output_type": "stream",
     "text": [
      "/Users/aviadsusman/opt/anaconda3/envs/EI_implement/lib/python3.10/site-packages/xgboost/sklearn.py:1395: UserWarning: `use_label_encoder` is deprecated in 1.7.0.\n",
      "  warnings.warn(\"`use_label_encoder` is deprecated in 1.7.0.\")\n",
      "/Users/aviadsusman/opt/anaconda3/envs/EI_implement/lib/python3.10/site-packages/xgboost/sklearn.py:1395: UserWarning: `use_label_encoder` is deprecated in 1.7.0.\n",
      "  warnings.warn(\"`use_label_encoder` is deprecated in 1.7.0.\")\n",
      "/Users/aviadsusman/opt/anaconda3/envs/EI_implement/lib/python3.10/site-packages/xgboost/sklearn.py:1395: UserWarning: `use_label_encoder` is deprecated in 1.7.0.\n",
      "  warnings.warn(\"`use_label_encoder` is deprecated in 1.7.0.\")\n",
      "/Users/aviadsusman/opt/anaconda3/envs/EI_implement/lib/python3.10/site-packages/xgboost/sklearn.py:1395: UserWarning: `use_label_encoder` is deprecated in 1.7.0.\n",
      "  warnings.warn(\"`use_label_encoder` is deprecated in 1.7.0.\")\n",
      "/Users/aviadsusman/opt/anaconda3/envs/EI_implement/lib/python3.10/site-packages/xgboost/sklearn.py:1395: UserWarning: `use_label_encoder` is deprecated in 1.7.0.\n",
      "  warnings.warn(\"`use_label_encoder` is deprecated in 1.7.0.\")\n"
     ]
    },
    {
     "name": "stdout",
     "output_type": "stream",
     "text": [
      "\n",
      "Base predictor training is complete: see \"base_summary\" attribute for a summary of base predictor performance. Meta training data can be found in \"meta_training_data\" and \"meta_test_data\" attributes. Run \"train_meta\" method for analysis of ensemble algorithms.\n",
      "\n",
      "\n",
      "###########################################################################################################\n",
      "######################################## sociodemographic modality ########################################\n",
      "########################################################################################################### \n",
      "\n",
      "\n",
      "Training base predictors and generating data for analysis...\n",
      "Generating meta training data via nested cross validation...\n"
     ]
    },
    {
     "name": "stderr",
     "output_type": "stream",
     "text": [
      "/Users/aviadsusman/opt/anaconda3/envs/EI_implement/lib/python3.10/site-packages/xgboost/sklearn.py:1395: UserWarning: `use_label_encoder` is deprecated in 1.7.0.\n",
      "  warnings.warn(\"`use_label_encoder` is deprecated in 1.7.0.\")\n",
      "/Users/aviadsusman/opt/anaconda3/envs/EI_implement/lib/python3.10/site-packages/xgboost/sklearn.py:1395: UserWarning: `use_label_encoder` is deprecated in 1.7.0.\n",
      "  warnings.warn(\"`use_label_encoder` is deprecated in 1.7.0.\")\n",
      "/Users/aviadsusman/opt/anaconda3/envs/EI_implement/lib/python3.10/site-packages/xgboost/sklearn.py:1395: UserWarning: `use_label_encoder` is deprecated in 1.7.0.\n",
      "  warnings.warn(\"`use_label_encoder` is deprecated in 1.7.0.\")\n",
      "/Users/aviadsusman/opt/anaconda3/envs/EI_implement/lib/python3.10/site-packages/xgboost/sklearn.py:1395: UserWarning: `use_label_encoder` is deprecated in 1.7.0.\n",
      "  warnings.warn(\"`use_label_encoder` is deprecated in 1.7.0.\")\n",
      "/Users/aviadsusman/opt/anaconda3/envs/EI_implement/lib/python3.10/site-packages/xgboost/sklearn.py:1395: UserWarning: `use_label_encoder` is deprecated in 1.7.0.\n",
      "  warnings.warn(\"`use_label_encoder` is deprecated in 1.7.0.\")\n",
      "/Users/aviadsusman/opt/anaconda3/envs/EI_implement/lib/python3.10/site-packages/xgboost/sklearn.py:1395: UserWarning: `use_label_encoder` is deprecated in 1.7.0.\n",
      "  warnings.warn(\"`use_label_encoder` is deprecated in 1.7.0.\")\n",
      "/Users/aviadsusman/opt/anaconda3/envs/EI_implement/lib/python3.10/site-packages/xgboost/sklearn.py:1395: UserWarning: `use_label_encoder` is deprecated in 1.7.0.\n",
      "  warnings.warn(\"`use_label_encoder` is deprecated in 1.7.0.\")\n",
      "/Users/aviadsusman/opt/anaconda3/envs/EI_implement/lib/python3.10/site-packages/xgboost/sklearn.py:1395: UserWarning: `use_label_encoder` is deprecated in 1.7.0.\n",
      "  warnings.warn(\"`use_label_encoder` is deprecated in 1.7.0.\")\n",
      "/Users/aviadsusman/opt/anaconda3/envs/EI_implement/lib/python3.10/site-packages/xgboost/sklearn.py:1395: UserWarning: `use_label_encoder` is deprecated in 1.7.0.\n",
      "  warnings.warn(\"`use_label_encoder` is deprecated in 1.7.0.\")\n",
      "/Users/aviadsusman/opt/anaconda3/envs/EI_implement/lib/python3.10/site-packages/xgboost/sklearn.py:1395: UserWarning: `use_label_encoder` is deprecated in 1.7.0.\n",
      "  warnings.warn(\"`use_label_encoder` is deprecated in 1.7.0.\")\n",
      "/Users/aviadsusman/opt/anaconda3/envs/EI_implement/lib/python3.10/site-packages/xgboost/sklearn.py:1395: UserWarning: `use_label_encoder` is deprecated in 1.7.0.\n",
      "  warnings.warn(\"`use_label_encoder` is deprecated in 1.7.0.\")\n",
      "/Users/aviadsusman/opt/anaconda3/envs/EI_implement/lib/python3.10/site-packages/xgboost/sklearn.py:1395: UserWarning: `use_label_encoder` is deprecated in 1.7.0.\n",
      "  warnings.warn(\"`use_label_encoder` is deprecated in 1.7.0.\")\n",
      "/Users/aviadsusman/opt/anaconda3/envs/EI_implement/lib/python3.10/site-packages/xgboost/sklearn.py:1395: UserWarning: `use_label_encoder` is deprecated in 1.7.0.\n",
      "  warnings.warn(\"`use_label_encoder` is deprecated in 1.7.0.\")\n",
      "/Users/aviadsusman/opt/anaconda3/envs/EI_implement/lib/python3.10/site-packages/xgboost/sklearn.py:1395: UserWarning: `use_label_encoder` is deprecated in 1.7.0.\n",
      "  warnings.warn(\"`use_label_encoder` is deprecated in 1.7.0.\")\n",
      "/Users/aviadsusman/opt/anaconda3/envs/EI_implement/lib/python3.10/site-packages/xgboost/sklearn.py:1395: UserWarning: `use_label_encoder` is deprecated in 1.7.0.\n",
      "  warnings.warn(\"`use_label_encoder` is deprecated in 1.7.0.\")\n",
      "/Users/aviadsusman/opt/anaconda3/envs/EI_implement/lib/python3.10/site-packages/xgboost/sklearn.py:1395: UserWarning: `use_label_encoder` is deprecated in 1.7.0.\n",
      "  warnings.warn(\"`use_label_encoder` is deprecated in 1.7.0.\")\n",
      "/Users/aviadsusman/opt/anaconda3/envs/EI_implement/lib/python3.10/site-packages/xgboost/sklearn.py:1395: UserWarning: `use_label_encoder` is deprecated in 1.7.0.\n",
      "  warnings.warn(\"`use_label_encoder` is deprecated in 1.7.0.\")\n",
      "/Users/aviadsusman/opt/anaconda3/envs/EI_implement/lib/python3.10/site-packages/xgboost/sklearn.py:1395: UserWarning: `use_label_encoder` is deprecated in 1.7.0.\n",
      "  warnings.warn(\"`use_label_encoder` is deprecated in 1.7.0.\")\n",
      "/Users/aviadsusman/opt/anaconda3/envs/EI_implement/lib/python3.10/site-packages/xgboost/sklearn.py:1395: UserWarning: `use_label_encoder` is deprecated in 1.7.0.\n",
      "  warnings.warn(\"`use_label_encoder` is deprecated in 1.7.0.\")\n",
      "/Users/aviadsusman/opt/anaconda3/envs/EI_implement/lib/python3.10/site-packages/xgboost/sklearn.py:1395: UserWarning: `use_label_encoder` is deprecated in 1.7.0.\n",
      "  warnings.warn(\"`use_label_encoder` is deprecated in 1.7.0.\")\n",
      "/Users/aviadsusman/opt/anaconda3/envs/EI_implement/lib/python3.10/site-packages/xgboost/sklearn.py:1395: UserWarning: `use_label_encoder` is deprecated in 1.7.0.\n",
      "  warnings.warn(\"`use_label_encoder` is deprecated in 1.7.0.\")\n",
      "/Users/aviadsusman/opt/anaconda3/envs/EI_implement/lib/python3.10/site-packages/xgboost/sklearn.py:1395: UserWarning: `use_label_encoder` is deprecated in 1.7.0.\n",
      "  warnings.warn(\"`use_label_encoder` is deprecated in 1.7.0.\")\n",
      "/Users/aviadsusman/opt/anaconda3/envs/EI_implement/lib/python3.10/site-packages/xgboost/sklearn.py:1395: UserWarning: `use_label_encoder` is deprecated in 1.7.0.\n",
      "  warnings.warn(\"`use_label_encoder` is deprecated in 1.7.0.\")\n",
      "/Users/aviadsusman/opt/anaconda3/envs/EI_implement/lib/python3.10/site-packages/xgboost/sklearn.py:1395: UserWarning: `use_label_encoder` is deprecated in 1.7.0.\n",
      "  warnings.warn(\"`use_label_encoder` is deprecated in 1.7.0.\")\n",
      "/Users/aviadsusman/opt/anaconda3/envs/EI_implement/lib/python3.10/site-packages/xgboost/sklearn.py:1395: UserWarning: `use_label_encoder` is deprecated in 1.7.0.\n",
      "  warnings.warn(\"`use_label_encoder` is deprecated in 1.7.0.\")\n"
     ]
    },
    {
     "name": "stdout",
     "output_type": "stream",
     "text": [
      "Training base predictors on outer training sets...\n"
     ]
    },
    {
     "name": "stderr",
     "output_type": "stream",
     "text": [
      "/Users/aviadsusman/opt/anaconda3/envs/EI_implement/lib/python3.10/site-packages/xgboost/sklearn.py:1395: UserWarning: `use_label_encoder` is deprecated in 1.7.0.\n",
      "  warnings.warn(\"`use_label_encoder` is deprecated in 1.7.0.\")\n",
      "/Users/aviadsusman/opt/anaconda3/envs/EI_implement/lib/python3.10/site-packages/xgboost/sklearn.py:1395: UserWarning: `use_label_encoder` is deprecated in 1.7.0.\n",
      "  warnings.warn(\"`use_label_encoder` is deprecated in 1.7.0.\")\n",
      "/Users/aviadsusman/opt/anaconda3/envs/EI_implement/lib/python3.10/site-packages/xgboost/sklearn.py:1395: UserWarning: `use_label_encoder` is deprecated in 1.7.0.\n",
      "  warnings.warn(\"`use_label_encoder` is deprecated in 1.7.0.\")\n",
      "/Users/aviadsusman/opt/anaconda3/envs/EI_implement/lib/python3.10/site-packages/xgboost/sklearn.py:1395: UserWarning: `use_label_encoder` is deprecated in 1.7.0.\n",
      "  warnings.warn(\"`use_label_encoder` is deprecated in 1.7.0.\")\n",
      "/Users/aviadsusman/opt/anaconda3/envs/EI_implement/lib/python3.10/site-packages/xgboost/sklearn.py:1395: UserWarning: `use_label_encoder` is deprecated in 1.7.0.\n",
      "  warnings.warn(\"`use_label_encoder` is deprecated in 1.7.0.\")\n"
     ]
    },
    {
     "name": "stdout",
     "output_type": "stream",
     "text": [
      "\n",
      "Base predictor training is complete: see \"base_summary\" attribute for a summary of base predictor performance. Meta training data can be found in \"meta_training_data\" and \"meta_test_data\" attributes. Run \"train_meta\" method for analysis of ensemble algorithms.\n",
      "\n",
      "Saved to EI.demo\n",
      "\n",
      "\n",
      "\n",
      "#####################################################################################################\n",
      "######################################## Analysing ensembles ########################################\n",
      "##################################################################################################### \n",
      "\n",
      "\n",
      "Mean...\n"
     ]
    },
    {
     "name": "stderr",
     "output_type": "stream",
     "text": [
      "/Users/aviadsusman/opt/anaconda3/envs/EI_implement/lib/python3.10/site-packages/xgboost/sklearn.py:1395: UserWarning: `use_label_encoder` is deprecated in 1.7.0.\n",
      "  warnings.warn(\"`use_label_encoder` is deprecated in 1.7.0.\")\n"
     ]
    },
    {
     "name": "stdout",
     "output_type": "stream",
     "text": [
      "fmax (minority):  0.299669295344696\n",
      "f (majority):  0.7545908361561776\n",
      "AUC:  0.6566801050686896\n",
      "max MCC:  0.16427563726322839\n",
      "\n",
      "CES...\n",
      "fmax (minority):  0.2853333333333333\n",
      "f (majority):  0.7325834542815676\n",
      "AUC:  0.6200940650276285\n",
      "max MCC:  0.13752507633137592\n",
      "\n",
      "S.AdaBoost...\n",
      "fmax (minority):  0.30426164519326065\n",
      "f (majority):  0.7473229550976335\n",
      "AUC:  0.6630140075177806\n",
      "max MCC:  0.15920327042839713\n",
      "\n",
      "S.DT...\n",
      "fmax (minority):  0.2342793869106591\n",
      "f (majority):  0.0\n",
      "AUC:  0.5159607813735947\n",
      "max MCC:  0.02530244949096735\n",
      "\n",
      "S.GradientBoosting...\n",
      "fmax (minority):  0.2910224438902743\n",
      "f (majority):  0.7447706257294191\n",
      "AUC:  0.6419691064428221\n",
      "max MCC:  0.14620585752757914\n",
      "\n",
      "S.KNN...\n",
      "fmax (minority):  0.25601604278074863\n",
      "f (majority):  0.6868023637557452\n",
      "AUC:  0.5753777917627025\n",
      "max MCC:  0.08774681730195961\n",
      "\n",
      "S.LR...\n",
      "fmax (minority):  0.3186972957255016\n",
      "f (majority):  0.7999146029035012\n",
      "AUC:  0.6865822345764139\n",
      "max MCC:  0.18542144036543137\n",
      "\n",
      "S.NB...\n",
      "fmax (minority):  0.26795760826900433\n",
      "f (majority):  0.7530346501875966\n",
      "AUC:  0.5801529493865629\n",
      "max MCC:  0.11084967430329434\n",
      "\n",
      "S.MLP...\n",
      "fmax (minority):  0.29676787463271304\n",
      "f (majority):  0.7404428377767737\n",
      "AUC:  0.6478471861712822\n",
      "max MCC:  0.15438405835584842\n",
      "\n",
      "S.RF...\n",
      "fmax (minority):  0.28620640160757854\n",
      "f (majority):  0.7868501135827868\n",
      "AUC:  0.635123700320227\n",
      "max MCC:  0.14071996401022022\n",
      "\n",
      "S.SVM...\n",
      "fmax (minority):  0.23428571428571426\n",
      "f (majority):  0.001216915120170368\n",
      "AUC:  0.5038001635024512\n",
      "max MCC:  0.011757229273023707\n",
      "\n",
      "S.XGB...\n",
      "fmax (minority):  0.27967070660873544\n",
      "f (majority):  0.7076837416481069\n",
      "AUC:  0.6278808598002453\n",
      "max MCC:  0.1281785591473965\n",
      "\n",
      "Analysis complete: performance summary of ensemble algorithms can be found in \"meta_summary\" attribute.\n",
      "Model building: final meta models have been saved to \"final_models\" attribute.\n"
     ]
    },
    {
     "data": {
      "text/plain": "<ei.EnsembleIntegration at 0x7f81e33a85e0>"
     },
     "execution_count": 8,
     "metadata": {},
     "output_type": "execute_result"
    }
   ],
   "source": [
    "'''\n",
    "train local models and meta models\n",
    "'''\n",
    "base_predictors = {\n",
    "    'AdaBoost': AdaBoostClassifier(),\n",
    "    'DT': DecisionTreeClassifier(),\n",
    "    'GradientBoosting': GradientBoostingClassifier(),\n",
    "    'KNN': KNeighborsClassifier(),\n",
    "    'LR': LogisticRegression(),\n",
    "    'NB': GaussianNB(),\n",
    "    'MLP': MLPClassifier(),\n",
    "    'RF': RandomForestClassifier(),\n",
    "    'SVM': SVC(kernel='linear', probability=True, max_iter=1000),\n",
    "    'XGB': XGBClassifier(use_label_encoder=False, eval_metric='error')\n",
    "}\n",
    "\n",
    "EI = EnsembleIntegration(base_predictors=base_predictors,\n",
    "                         k_outer=5,\n",
    "                         k_inner=5,\n",
    "                         n_samples=1,\n",
    "                         sampling_strategy=\"undersampling\",\n",
    "                         sampling_aggregation=\"mean\",\n",
    "                         n_jobs=-1, \n",
    "                         random_state=42,\n",
    "                         project_name=\"demo\")\n",
    "\n",
    "\n",
    "for name, modality in modalities.items():\n",
    "    EI.train_base(modality, y, base_predictors, modality=name)\n",
    "\n",
    "EI.save() \n",
    "\n",
    "meta_models = {\n",
    "    \"AdaBoost\": AdaBoostClassifier(),\n",
    "    \"DT\": DecisionTreeClassifier(),\n",
    "    \"GradientBoosting\": GradientBoostingClassifier(),\n",
    "    \"KNN\": KNeighborsClassifier(),\n",
    "    \"LR\": LogisticRegression(),\n",
    "    \"NB\": GaussianNB(),\n",
    "    \"MLP\": MLPClassifier(),\n",
    "    \"RF\": RandomForestClassifier(),\n",
    "    \"SVM\": SVC(kernel='linear', probability=True, max_iter=1000),\n",
    "    \"XGB\": XGBClassifier(use_label_encoder=False),\n",
    "}\n",
    "\n",
    "EI = EnsembleIntegration().load(\"EI.demo\")  \n",
    "\n",
    "EI.train_meta(meta_models=meta_models)  "
   ],
   "metadata": {
    "collapsed": false,
    "ExecuteTime": {
     "end_time": "2023-08-02T22:16:13.621651Z",
     "start_time": "2023-08-02T21:59:01.563632Z"
    }
   },
   "id": "4cf1d283b4ddea13"
  },
  {
   "cell_type": "code",
   "execution_count": 9,
   "outputs": [
    {
     "data": {
      "text/plain": "{'metrics':                      Mean       CES  S.AdaBoost      S.DT  S.GradientBoosting  \\\n fmax (minority)  0.299669  0.285333    0.304262  0.234279            0.291022   \n f (majority)     0.754591  0.732583    0.747323  0.000000            0.744771   \n AUC              0.656680  0.620094    0.663014  0.515961            0.641969   \n max MCC          0.164276  0.137525    0.159203  0.025302            0.146206   \n \n                     S.KNN      S.LR      S.NB     S.MLP      S.RF     S.SVM  \\\n fmax (minority)  0.256016  0.318697  0.267958  0.296768  0.286206  0.234286   \n f (majority)     0.686802  0.799915  0.753035  0.740443  0.786850  0.001217   \n AUC              0.575378  0.686582  0.580153  0.647847  0.635124  0.503800   \n max MCC          0.087747  0.185421  0.110850  0.154384  0.140720  0.011757   \n \n                     S.XGB  \n fmax (minority)  0.279671  \n f (majority)     0.707684  \n AUC              0.627881  \n max MCC          0.128179  ,\n 'thresholds':                      Mean       CES  S.AdaBoost  S.DT  S.GradientBoosting  \\\n fmax (minority)  0.500324  0.500458    0.490748  0.00            0.190744   \n f (majority)     0.500324  0.500458    0.490748  0.00            0.190744   \n AUC                   NaN       NaN         NaN   NaN                 NaN   \n max MCC          0.470000  0.500000    0.490000  0.01            0.190000   \n \n                  S.KNN      S.LR     S.NB     S.MLP  S.RF     S.SVM     S.XGB  \n fmax (minority)   0.20  0.162483  0.35711  0.111451  0.25  0.092499  0.082094  \n f (majority)      0.20  0.162483  0.35711  0.111451  0.25  0.092499  0.082094  \n AUC                NaN       NaN      NaN       NaN   NaN       NaN       NaN  \n max MCC           0.01  0.120000  0.37000  0.110000  0.28  0.130000  0.080000  }"
     },
     "execution_count": 9,
     "metadata": {},
     "output_type": "execute_result"
    }
   ],
   "source": [
    "EI.meta_summary"
   ],
   "metadata": {
    "collapsed": false,
    "ExecuteTime": {
     "end_time": "2023-08-02T22:19:52.194611Z",
     "start_time": "2023-08-02T22:19:52.008308Z"
    }
   },
   "id": "ce6dcec8a4df6be1"
  },
  {
   "cell_type": "code",
   "execution_count": 12,
   "outputs": [
    {
     "data": {
      "text/plain": "                     Mean       CES  S.AdaBoost      S.DT  S.GradientBoosting  \\\nfmax (minority)  0.299669  0.285333    0.304262  0.234279            0.291022   \nf (majority)     0.754591  0.732583    0.747323  0.000000            0.744771   \nAUC              0.656680  0.620094    0.663014  0.515961            0.641969   \nmax MCC          0.164276  0.137525    0.159203  0.025302            0.146206   \n\n                    S.KNN      S.LR      S.NB     S.MLP      S.RF     S.SVM  \\\nfmax (minority)  0.256016  0.318697  0.267958  0.296768  0.286206  0.234286   \nf (majority)     0.686802  0.799915  0.753035  0.740443  0.786850  0.001217   \nAUC              0.575378  0.686582  0.580153  0.647847  0.635124  0.503800   \nmax MCC          0.087747  0.185421  0.110850  0.154384  0.140720  0.011757   \n\n                    S.XGB  \nfmax (minority)  0.279671  \nf (majority)     0.707684  \nAUC              0.627881  \nmax MCC          0.128179  ",
      "text/html": "<div>\n<style scoped>\n    .dataframe tbody tr th:only-of-type {\n        vertical-align: middle;\n    }\n\n    .dataframe tbody tr th {\n        vertical-align: top;\n    }\n\n    .dataframe thead th {\n        text-align: right;\n    }\n</style>\n<table border=\"1\" class=\"dataframe\">\n  <thead>\n    <tr style=\"text-align: right;\">\n      <th></th>\n      <th>Mean</th>\n      <th>CES</th>\n      <th>S.AdaBoost</th>\n      <th>S.DT</th>\n      <th>S.GradientBoosting</th>\n      <th>S.KNN</th>\n      <th>S.LR</th>\n      <th>S.NB</th>\n      <th>S.MLP</th>\n      <th>S.RF</th>\n      <th>S.SVM</th>\n      <th>S.XGB</th>\n    </tr>\n  </thead>\n  <tbody>\n    <tr>\n      <th>fmax (minority)</th>\n      <td>0.299669</td>\n      <td>0.285333</td>\n      <td>0.304262</td>\n      <td>0.234279</td>\n      <td>0.291022</td>\n      <td>0.256016</td>\n      <td>0.318697</td>\n      <td>0.267958</td>\n      <td>0.296768</td>\n      <td>0.286206</td>\n      <td>0.234286</td>\n      <td>0.279671</td>\n    </tr>\n    <tr>\n      <th>f (majority)</th>\n      <td>0.754591</td>\n      <td>0.732583</td>\n      <td>0.747323</td>\n      <td>0.000000</td>\n      <td>0.744771</td>\n      <td>0.686802</td>\n      <td>0.799915</td>\n      <td>0.753035</td>\n      <td>0.740443</td>\n      <td>0.786850</td>\n      <td>0.001217</td>\n      <td>0.707684</td>\n    </tr>\n    <tr>\n      <th>AUC</th>\n      <td>0.656680</td>\n      <td>0.620094</td>\n      <td>0.663014</td>\n      <td>0.515961</td>\n      <td>0.641969</td>\n      <td>0.575378</td>\n      <td>0.686582</td>\n      <td>0.580153</td>\n      <td>0.647847</td>\n      <td>0.635124</td>\n      <td>0.503800</td>\n      <td>0.627881</td>\n    </tr>\n    <tr>\n      <th>max MCC</th>\n      <td>0.164276</td>\n      <td>0.137525</td>\n      <td>0.159203</td>\n      <td>0.025302</td>\n      <td>0.146206</td>\n      <td>0.087747</td>\n      <td>0.185421</td>\n      <td>0.110850</td>\n      <td>0.154384</td>\n      <td>0.140720</td>\n      <td>0.011757</td>\n      <td>0.128179</td>\n    </tr>\n  </tbody>\n</table>\n</div>"
     },
     "execution_count": 12,
     "metadata": {},
     "output_type": "execute_result"
    }
   ],
   "source": [
    "EI.meta_summary['metrics']"
   ],
   "metadata": {
    "collapsed": false,
    "ExecuteTime": {
     "end_time": "2023-08-03T15:31:19.717546Z",
     "start_time": "2023-08-03T15:31:19.373708Z"
    }
   },
   "id": "58a34b7a2524f762"
  },
  {
   "cell_type": "code",
   "execution_count": 13,
   "outputs": [
    {
     "data": {
      "text/plain": "                     Mean       CES  S.AdaBoost  S.DT  S.GradientBoosting  \\\nfmax (minority)  0.500324  0.500458    0.490748  0.00            0.190744   \nf (majority)     0.500324  0.500458    0.490748  0.00            0.190744   \nAUC                   NaN       NaN         NaN   NaN                 NaN   \nmax MCC          0.470000  0.500000    0.490000  0.01            0.190000   \n\n                 S.KNN      S.LR     S.NB     S.MLP  S.RF     S.SVM     S.XGB  \nfmax (minority)   0.20  0.162483  0.35711  0.111451  0.25  0.092499  0.082094  \nf (majority)      0.20  0.162483  0.35711  0.111451  0.25  0.092499  0.082094  \nAUC                NaN       NaN      NaN       NaN   NaN       NaN       NaN  \nmax MCC           0.01  0.120000  0.37000  0.110000  0.28  0.130000  0.080000  ",
      "text/html": "<div>\n<style scoped>\n    .dataframe tbody tr th:only-of-type {\n        vertical-align: middle;\n    }\n\n    .dataframe tbody tr th {\n        vertical-align: top;\n    }\n\n    .dataframe thead th {\n        text-align: right;\n    }\n</style>\n<table border=\"1\" class=\"dataframe\">\n  <thead>\n    <tr style=\"text-align: right;\">\n      <th></th>\n      <th>Mean</th>\n      <th>CES</th>\n      <th>S.AdaBoost</th>\n      <th>S.DT</th>\n      <th>S.GradientBoosting</th>\n      <th>S.KNN</th>\n      <th>S.LR</th>\n      <th>S.NB</th>\n      <th>S.MLP</th>\n      <th>S.RF</th>\n      <th>S.SVM</th>\n      <th>S.XGB</th>\n    </tr>\n  </thead>\n  <tbody>\n    <tr>\n      <th>fmax (minority)</th>\n      <td>0.500324</td>\n      <td>0.500458</td>\n      <td>0.490748</td>\n      <td>0.00</td>\n      <td>0.190744</td>\n      <td>0.20</td>\n      <td>0.162483</td>\n      <td>0.35711</td>\n      <td>0.111451</td>\n      <td>0.25</td>\n      <td>0.092499</td>\n      <td>0.082094</td>\n    </tr>\n    <tr>\n      <th>f (majority)</th>\n      <td>0.500324</td>\n      <td>0.500458</td>\n      <td>0.490748</td>\n      <td>0.00</td>\n      <td>0.190744</td>\n      <td>0.20</td>\n      <td>0.162483</td>\n      <td>0.35711</td>\n      <td>0.111451</td>\n      <td>0.25</td>\n      <td>0.092499</td>\n      <td>0.082094</td>\n    </tr>\n    <tr>\n      <th>AUC</th>\n      <td>NaN</td>\n      <td>NaN</td>\n      <td>NaN</td>\n      <td>NaN</td>\n      <td>NaN</td>\n      <td>NaN</td>\n      <td>NaN</td>\n      <td>NaN</td>\n      <td>NaN</td>\n      <td>NaN</td>\n      <td>NaN</td>\n      <td>NaN</td>\n    </tr>\n    <tr>\n      <th>max MCC</th>\n      <td>0.470000</td>\n      <td>0.500000</td>\n      <td>0.490000</td>\n      <td>0.01</td>\n      <td>0.190000</td>\n      <td>0.01</td>\n      <td>0.120000</td>\n      <td>0.37000</td>\n      <td>0.110000</td>\n      <td>0.28</td>\n      <td>0.130000</td>\n      <td>0.080000</td>\n    </tr>\n  </tbody>\n</table>\n</div>"
     },
     "execution_count": 13,
     "metadata": {},
     "output_type": "execute_result"
    }
   ],
   "source": [
    "EI.meta_summary['thresholds']"
   ],
   "metadata": {
    "collapsed": false,
    "ExecuteTime": {
     "end_time": "2023-08-03T15:31:47.395144Z",
     "start_time": "2023-08-03T15:31:46.893235Z"
    }
   },
   "id": "106ce004ad0e4c00"
  },
  {
   "cell_type": "code",
   "execution_count": null,
   "outputs": [],
   "source": [],
   "metadata": {
    "collapsed": false
   },
   "id": "48765fd8ea277081"
  }
 ],
 "metadata": {
  "kernelspec": {
   "display_name": "Python 3",
   "language": "python",
   "name": "python3"
  },
  "language_info": {
   "codemirror_mode": {
    "name": "ipython",
    "version": 2
   },
   "file_extension": ".py",
   "mimetype": "text/x-python",
   "name": "python",
   "nbconvert_exporter": "python",
   "pygments_lexer": "ipython2",
   "version": "2.7.6"
  }
 },
 "nbformat": 4,
 "nbformat_minor": 5
}
